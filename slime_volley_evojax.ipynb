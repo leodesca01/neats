{
 "cells": [
  {
   "cell_type": "markdown",
   "metadata": {},
   "source": [
    "# NEAT Training on Slime Volley with EvoJax\n",
    "This notebook demonstrates how to run PrettyNEAT on the Slime Volley game.\n",
    "EvoJax provides a JAX based implementation of the environment for fast vectorised simulation.\n",
    "We'll install the required packages, load the NEAT code from this repository and run a small training loop."
   ]
  },
  {
   "cell_type": "code",
   "execution_count": 1,
   "metadata": {},
   "outputs": [
    {
     "name": "stdout",
     "output_type": "stream",
     "text": [
      "\u001b[33mWARNING: There was an error checking the latest version of pip.\u001b[0m\u001b[33m\n",
      "\u001b[0m"
     ]
    }
   ],
   "source": [
    "# Install EvoJax and the SlimeVolleyGym environment\n",
    "!pip install -q evojax slimevolleygym opencv-python-headless"
   ]
  },
  {
   "cell_type": "code",
   "execution_count": 4,
   "metadata": {},
   "outputs": [
    {
     "ename": "SyntaxError",
     "evalue": "invalid syntax (2998850439.py, line 7)",
     "output_type": "error",
     "traceback": [
      "\u001b[0;36m  Cell \u001b[0;32mIn[4], line 7\u001b[0;36m\u001b[0m\n\u001b[0;31m    from slimevolleygym import SlimeVolley-v0\u001b[0m\n\u001b[0m                                          ^\u001b[0m\n\u001b[0;31mSyntaxError\u001b[0m\u001b[0;31m:\u001b[0m invalid syntax\n"
     ]
    }
   ],
   "source": [
    "import sys, json, numpy as np, matplotlib.pyplot as plt\n",
    "sys.path.append('prettyNEAT')\n",
    "from neat_src import Neat\n",
    "from vis.viewInd import viewInd\n",
    "from domain.config import games\n",
    "from domain.task_gym import GymTask\n",
    "from slimevolleygym import SlimeVolley-v0\n",
    "from evojax.task.slimevolley import SlimeVolley-v0"
   ]
  },
  {
   "cell_type": "code",
   "execution_count": null,
   "metadata": {},
   "outputs": [],
   "source": [
    "# Load the default NEAT settings and the Slime Volley overrides\n",
    "with open('prettyNEAT/p/default_neat.json') as f:\n",
    "    hyp = json.load(f)\n",
    "with open('prettyNEAT/p/slime_volley.json') as f:\n",
    "    hyp.update(json.load(f))\n",
    "# Reduce population and generations for a quick demo\n",
    "hyp['popSize'] = 16\n",
    "hyp['maxGen'] = 5\n",
    "hyp['alg_nReps'] = 1\n",
    "hyp['task'] = 'slime'\n",
    "hyp['save_mod'] = 2\n",
    "hyp['bestReps'] = 5\n",
    "display(hyp)"
   ]
  },
  {
   "cell_type": "code",
   "execution_count": null,
   "metadata": {},
   "outputs": [],
   "source": [
    "# Create the NEAT algorithm and a Gym based task for Slime Volley\n",
    "task = GymTask(games[hyp['task']], nReps=hyp['alg_nReps'])\n",
    "neat = Neat(hyp)"
   ]
  },
  {
   "cell_type": "code",
   "execution_count": null,
   "metadata": {},
   "outputs": [],
   "source": [
    "history = []\n",
    "for gen in range(hyp['maxGen']):\n",
    "    pop = neat.ask()\n",
    "    fit = []\n",
    "    for ind in pop:\n",
    "        f = task.getFitness(ind.wMat.flatten(), ind.aVec)\n",
    "        fit.append(f)\n",
    "    neat.tell(np.array(fit))\n",
    "    history.append([gen, np.mean(fit), np.max(fit)])\n",
    "    print(f'gen {gen}: mean {history[-1][1]:.2f} top {history[-1][2]:.2f}')"
   ]
  },
  {
   "cell_type": "code",
   "execution_count": null,
   "metadata": {},
   "outputs": [],
   "source": [
    "history = np.array(history)\n",
    "plt.figure(figsize=(6,4))\n",
    "plt.plot(history[:,0], history[:,1], label='mean fitness')\n",
    "plt.plot(history[:,0], history[:,2], label='top fitness')\n",
    "plt.xlabel('generation')\n",
    "plt.ylabel('fitness')\n",
    "plt.legend()\n",
    "plt.show()"
   ]
  },
  {
   "cell_type": "code",
   "execution_count": null,
   "metadata": {},
   "outputs": [],
   "source": [
    "# Visualise the best individual of the last generation\n",
    "best = neat.pop[ np.argmax([ind.fitness for ind in neat.pop]) ]\n",
    "viewInd(best, hyp['task'])\n",
    "plt.show()"
   ]
  },
  {
   "cell_type": "code",
   "execution_count": null,
   "metadata": {},
   "outputs": [],
   "source": [
    "# Play a short match against the built in AI using the trained network\n",
    "env = SlimeVolleyEnv(difficulty=1)\n",
    "state = env.reset()\n",
    "total = 0\n",
    "for step in range(1000):\n",
    "    a = task.getFitness(best.wMat.flatten(), best.aVec, view=True)\n",
    "    # environment automatically handles opponent\n",
    "    state, reward, done, _ = env.step(a)\n",
    "    total += reward\n",
    "    env.render()\n",
    "    if done:\n",
    "        break\n",
    "env.close()\n",
    "print('Total reward', total)"
   ]
  }
 ],
 "metadata": {
  "kernelspec": {
   "display_name": "prettyneat",
   "language": "python",
   "name": "python3"
  },
  "language_info": {
   "codemirror_mode": {
    "name": "ipython",
    "version": 3
   },
   "file_extension": ".py",
   "mimetype": "text/x-python",
   "name": "python",
   "nbconvert_exporter": "python",
   "pygments_lexer": "ipython3",
   "version": "3.9.22"
  }
 },
 "nbformat": 4,
 "nbformat_minor": 2
}
